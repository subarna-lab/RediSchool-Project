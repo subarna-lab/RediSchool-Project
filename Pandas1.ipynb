{
 "cells": [
  {
   "cell_type": "code",
   "execution_count": 1,
   "id": "ef8e8603",
   "metadata": {
    "scrolled": true
   },
   "outputs": [
    {
     "data": {
      "text/plain": [
       "'pandas is a very important library of python.it is using for manupulation of different format of data structures like csv (coma separated value),txt,JSON,ZIP etc.\\nit is also very fast and efficient to prepare and preprocessing  raw data like dealing with missing value,data order,reshaping,slicing, and idexing.\\nLikewise, it has time series features as well. Pandas deal with 3 types of data structures (read & write): Series, Data Frame and Panel.\\nSeries is nothing but an one dimensional lebled homogenous Array. Adding two or more Series will beocme a data frame and panel is 3 dimensional array.\\nNumPy array is used for the implementation of Pandas data object.'"
      ]
     },
     "execution_count": 1,
     "metadata": {},
     "output_type": "execute_result"
    }
   ],
   "source": [
    "\"\"\"pandas is a very important library of python.it is using for manupulation of different format of data structures like csv (coma separated value),txt,JSON,ZIP etc.\n",
    "it is also very fast and efficient to prepare and preprocessing  raw data like dealing with missing value,data order,reshaping,slicing, and idexing.\n",
    "Likewise, it has time series features as well. Pandas deal with 3 types of data structures (read & write): Series, Data Frame and Panel.\n",
    "Series is nothing but an one dimensional lebled homogenous Array. Adding two or more Series will beocme a data frame and panel is 3 dimensional array.\n",
    "NumPy array is used for the implementation of Pandas data object.\"\"\"\n"
   ]
  },
  {
   "cell_type": "code",
   "execution_count": 21,
   "id": "7739b25c",
   "metadata": {
    "scrolled": true
   },
   "outputs": [
    {
     "data": {
      "text/plain": [
       "'1.4.3'"
      ]
     },
     "execution_count": 21,
     "metadata": {},
     "output_type": "execute_result"
    }
   ],
   "source": [
    "import pandas as pd\n",
    "pd.__version__"
   ]
  },
  {
   "cell_type": "code",
   "execution_count": 22,
   "id": "39880b2b",
   "metadata": {},
   "outputs": [
    {
     "name": "stdout",
     "output_type": "stream",
     "text": [
      "[10, 20, 30, 'I Love You', 40, 50, 60]\n"
     ]
    }
   ],
   "source": [
    "lis1=[10,20,30,\"I Love You\", 40,50,60]\n",
    "print(lis1)"
   ]
  },
  {
   "cell_type": "code",
   "execution_count": 23,
   "id": "d42e60f0",
   "metadata": {
    "scrolled": true
   },
   "outputs": [
    {
     "name": "stdout",
     "output_type": "stream",
     "text": [
      "0            10\n",
      "1            20\n",
      "2            30\n",
      "3    I Love You\n",
      "4            40\n",
      "5            50\n",
      "6            60\n",
      "dtype: object\n"
     ]
    }
   ],
   "source": [
    "s2=pd.Series(lis1) # for Series, Should be capital.\n",
    "print(s2)"
   ]
  },
  {
   "cell_type": "code",
   "execution_count": 5,
   "id": "0e41fc42",
   "metadata": {},
   "outputs": [
    {
     "name": "stdout",
     "output_type": "stream",
     "text": [
      "i       10.0\n",
      "ii      20.0\n",
      "iii    100.0\n",
      "iv     500.0\n",
      "v       30.0\n",
      "vi      40.0\n",
      "Name: safal, dtype: float64\n"
     ]
    }
   ],
   "source": [
    "# Series and adding index, data type, name etc. \n",
    "\n",
    "s2=pd.Series([10,20,100,500,30,40],index=[\"i\",\"ii\",\"iii\",\"iv\",\"v\",\"vi\"],dtype=float,name=\"safal\")\n",
    "print(s2)"
   ]
  },
  {
   "cell_type": "code",
   "execution_count": 6,
   "id": "f1b85a0d",
   "metadata": {},
   "outputs": [
    {
     "name": "stdout",
     "output_type": "stream",
     "text": [
      "Series([], dtype: float64)\n"
     ]
    },
    {
     "name": "stderr",
     "output_type": "stream",
     "text": [
      "C:\\Users\\Safal Basnet\\AppData\\Local\\Temp\\ipykernel_3016\\4254399744.py:2: FutureWarning: The default dtype for empty Series will be 'object' instead of 'float64' in a future version. Specify a dtype explicitly to silence this warning.\n",
      "  s3=pd.Series([])\n"
     ]
    }
   ],
   "source": [
    "# Empty Series\n",
    "s3=pd.Series([])\n",
    "print(s3)"
   ]
  },
  {
   "cell_type": "code",
   "execution_count": 7,
   "id": "4b460178",
   "metadata": {},
   "outputs": [
    {
     "name": "stdout",
     "output_type": "stream",
     "text": [
      "0    0.9\n",
      "dtype: float64\n"
     ]
    }
   ],
   "source": [
    "# Scalar in Series:it isused as a method, inside the parenthesis.\n",
    "s4=pd.Series(0.9)\n",
    "print(s4)"
   ]
  },
  {
   "cell_type": "code",
   "execution_count": 8,
   "id": "b0885268",
   "metadata": {},
   "outputs": [
    {
     "name": "stdout",
     "output_type": "stream",
     "text": [
      "2       0.5\n",
      "4       0.5\n",
      "6       0.5\n",
      "8       0.5\n",
      "100     0.5\n",
      "200     0.5\n",
      "love    0.5\n",
      "dtype: float64\n"
     ]
    }
   ],
   "source": [
    "# Scalar for more series by increasing index\n",
    "s5=pd.Series(0.5,index=[2,4,6,8,100,200,\"love\"]) # it works as a function, inside the parenthesis.\n",
    "print(s5)"
   ]
  },
  {
   "cell_type": "code",
   "execution_count": 9,
   "id": "f609089b",
   "metadata": {},
   "outputs": [
    {
     "name": "stdout",
     "output_type": "stream",
     "text": [
      "a      2\n",
      "b    100\n",
      "c    788\n",
      "dtype: int64\n"
     ]
    }
   ],
   "source": [
    "# series using by Dictionary.\n",
    "s6=pd.Series({\"a\":2,\"b\":100,\"c\":788}) # Do not forget.key in inverted comas \"\",curly brackets and semicolan(:)\n",
    "print(s6)"
   ]
  },
  {
   "cell_type": "code",
   "execution_count": 10,
   "id": "9ca21658",
   "metadata": {},
   "outputs": [
    {
     "name": "stdout",
     "output_type": "stream",
     "text": [
      "0                 10\n",
      "1                 20\n",
      "2                100\n",
      "3                500\n",
      "4                 30\n",
      "5                 40\n",
      "6    I am successful\n",
      "dtype: object\n",
      "\n",
      "20\n",
      "\n",
      "2                100\n",
      "3                500\n",
      "4                 30\n",
      "5                 40\n",
      "6    I am successful\n",
      "dtype: object\n"
     ]
    }
   ],
   "source": [
    "# values accessing through indexing in series.\n",
    "s7=pd.Series([10,20,100,500,30,40,\"I am successful\"])\n",
    "print(s7)\n",
    "print()\n",
    "s8=s7[1]\n",
    "print(s8)\n",
    "print()\n",
    "s9=s7[2:]\n",
    "print(s9)"
   ]
  },
  {
   "cell_type": "code",
   "execution_count": 11,
   "id": "71c0b588",
   "metadata": {},
   "outputs": [
    {
     "name": "stdout",
     "output_type": "stream",
     "text": [
      "0       10\n",
      "1       20\n",
      "2     1000\n",
      "3      500\n",
      "4       30\n",
      "5       40\n",
      "6      200\n",
      "7       12\n",
      "8        4\n",
      "9        3\n",
      "10     500\n",
      "dtype: int64\n",
      "\n",
      "1000\n",
      "\n"
     ]
    },
    {
     "data": {
      "text/plain": [
       "3"
      ]
     },
     "execution_count": 11,
     "metadata": {},
     "output_type": "execute_result"
    }
   ],
   "source": [
    "s10=pd.Series([10,20,1000,500,30,40,200,12,4,3,500])\n",
    "print(s10)\n",
    "print()\n",
    "Mx=max(s10)\n",
    "print(Mx)\n",
    "print()\n",
    "min(s10)\n"
   ]
  },
  {
   "cell_type": "code",
   "execution_count": 12,
   "id": "0a908bae",
   "metadata": {},
   "outputs": [
    {
     "name": "stdout",
     "output_type": "stream",
     "text": [
      "2     1000\n",
      "3      500\n",
      "6      200\n",
      "10     500\n",
      "dtype: int64\n",
      "\n",
      "0    10\n",
      "1    20\n",
      "4    30\n",
      "5    40\n",
      "7    12\n",
      "8     4\n",
      "9     3\n",
      "dtype: int64\n"
     ]
    }
   ],
   "source": [
    "# Pandas also satisfies the conditional operators. \n",
    "greater=s10[s10>100]\n",
    "print(greater)\n",
    "print()\n",
    "smaller=s10[s10<100]\n",
    "print(smaller)\n",
    "\n"
   ]
  },
  {
   "cell_type": "code",
   "execution_count": 13,
   "id": "b9fb6e6b",
   "metadata": {},
   "outputs": [
    {
     "name": "stdout",
     "output_type": "stream",
     "text": [
      "0    0\n",
      "1    1\n",
      "2    2\n",
      "3    3\n",
      "4    4\n",
      "5    5\n",
      "6    6\n",
      "dtype: int64\n"
     ]
    }
   ],
   "source": [
    "smaller1=pd.Series([0,1,2,3,4,5,6])\n",
    "print(smaller1)"
   ]
  },
  {
   "cell_type": "code",
   "execution_count": 14,
   "id": "0232d00f",
   "metadata": {},
   "outputs": [
    {
     "name": "stdout",
     "output_type": "stream",
     "text": [
      "0    1\n",
      "1    2\n",
      "2    3\n",
      "3    4\n",
      "4    5\n",
      "5    6\n",
      "dtype: int64\n",
      "0     2\n",
      "1     4\n",
      "2     6\n",
      "3     8\n",
      "4    10\n",
      "5    12\n",
      "dtype: int64\n"
     ]
    }
   ],
   "source": [
    "# The mathematical operations on series:\n",
    "first=pd.Series([1,2,3,4,5,6])\n",
    "print(first)\n",
    "second=pd.Series([2,4,6,8,10,12])\n",
    "print(second)"
   ]
  },
  {
   "cell_type": "code",
   "execution_count": 15,
   "id": "e5aa6519",
   "metadata": {},
   "outputs": [
    {
     "name": "stdout",
     "output_type": "stream",
     "text": [
      "0     3\n",
      "1     6\n",
      "2     9\n",
      "3    12\n",
      "4    15\n",
      "5    18\n",
      "dtype: int64\n",
      "\n",
      "0   -1\n",
      "1   -2\n",
      "2   -3\n",
      "3   -4\n",
      "4   -5\n",
      "5   -6\n",
      "dtype: int64\n"
     ]
    }
   ],
   "source": [
    "ad=first+second\n",
    "print(ad)\n",
    "print()\n",
    "su=(first-second)\n",
    "print(su)"
   ]
  },
  {
   "cell_type": "code",
   "execution_count": 16,
   "id": "93ce1ca5",
   "metadata": {},
   "outputs": [
    {
     "name": "stdout",
     "output_type": "stream",
     "text": [
      "0    2.0\n",
      "1    2.0\n",
      "2    2.0\n",
      "3    2.0\n",
      "4    2.0\n",
      "5    2.0\n",
      "dtype: float64\n"
     ]
    }
   ],
   "source": [
    "div=second/first\n",
    "print(div) # What a interesting !!!"
   ]
  },
  {
   "cell_type": "code",
   "execution_count": 17,
   "id": "4cb6dd46",
   "metadata": {},
   "outputs": [
    {
     "name": "stdout",
     "output_type": "stream",
     "text": [
      "0     2\n",
      "1     4\n",
      "2     6\n",
      "3     8\n",
      "4    10\n",
      "5    12\n",
      "dtype: int64\n",
      "0    11\n",
      "1    12\n",
      "2    13\n",
      "3    14\n",
      "4    15\n",
      "dtype: int64\n",
      "\n",
      "0    False\n",
      "1     True\n",
      "2    False\n",
      "3    False\n",
      "4    False\n",
      "5    False\n",
      "dtype: bool\n",
      "\n"
     ]
    }
   ],
   "source": [
    "print(second)\n",
    "ne=pd.Series([11,12,13,14,15])\n",
    "print(ne)\n",
    "print()\n",
    "mo=(ne%second==0)\n",
    "print(mo)\n",
    "print()\n",
    "mo1=[(ne%second!=0)]==0"
   ]
  },
  {
   "cell_type": "code",
   "execution_count": 18,
   "id": "fbcbd198",
   "metadata": {},
   "outputs": [
    {
     "name": "stdout",
     "output_type": "stream",
     "text": [
      "0    10.0\n",
      "1    21.0\n",
      "2     NaN\n",
      "3     NaN\n",
      "4    34.0\n",
      "5    45.0\n",
      "6     NaN\n",
      "7     NaN\n",
      "8     NaN\n",
      "9     NaN\n",
      "dtype: float64\n",
      "\n",
      "0   -10.0\n",
      "1   -19.0\n",
      "2     NaN\n",
      "3     NaN\n",
      "4   -26.0\n",
      "5   -35.0\n",
      "6     NaN\n",
      "7     NaN\n",
      "8     NaN\n",
      "9     NaN\n",
      "dtype: float64\n"
     ]
    }
   ],
   "source": [
    "# SEE How series works for the unequal data value (unmatched indexes).\n",
    "# it adds two series but it links matches to series under indexes. if there is missing of each index it returs NaN(not a Number).\n",
    "add=smaller1+smaller  \n",
    "print(add)\n",
    "print()\n",
    "sub=smaller1-smaller\n",
    "print(sub)\n",
    "\n"
   ]
  },
  {
   "cell_type": "code",
   "execution_count": 19,
   "id": "411c1479",
   "metadata": {},
   "outputs": [
    {
     "name": "stdout",
     "output_type": "stream",
     "text": [
      "0    2\n",
      "dtype: int64\n",
      "\n",
      "0    2\n",
      "1    2\n",
      "2    2\n",
      "3    2\n",
      "4    2\n",
      "5    2\n",
      "6    2\n",
      "7    2\n",
      "dtype: int64\n"
     ]
    }
   ],
   "source": [
    "scal=pd.Series(2)\n",
    "print(scal)\n",
    "print()\n",
    "scal1=pd.Series(2,index=[0,1,2,3,4,5,6,7])\n",
    "print(scal1)"
   ]
  },
  {
   "cell_type": "code",
   "execution_count": 20,
   "id": "9899a1cd",
   "metadata": {},
   "outputs": [
    {
     "name": "stdout",
     "output_type": "stream",
     "text": [
      "0    10\n",
      "1    20\n",
      "4    30\n",
      "5    40\n",
      "7    12\n",
      "8     4\n",
      "9     3\n",
      "dtype: int64\n",
      "0    2\n",
      "1    2\n",
      "2    2\n",
      "3    2\n",
      "4    2\n",
      "5    2\n",
      "6    2\n",
      "7    2\n",
      "dtype: int64\n",
      "\n",
      "0    20.0\n",
      "1    40.0\n",
      "2     NaN\n",
      "3     NaN\n",
      "4    60.0\n",
      "5    80.0\n",
      "6     NaN\n",
      "7    24.0\n",
      "8     NaN\n",
      "9     NaN\n",
      "dtype: float64\n"
     ]
    }
   ],
   "source": [
    "print(smaller)\n",
    "print(scal1)\n",
    "print()\n",
    "mult=(smaller*scal1)\n",
    "print(mult)"
   ]
  },
  {
   "cell_type": "markdown",
   "id": "f4e95bbb",
   "metadata": {},
   "source": [
    "# Pandas Data Frame. \n",
    "###\"\"\"Pandas Data Frame is a two dimensional, same size-mutable,potentially heterogenous tabular data structure with labeled axes (Rows & columns)\"\"\""
   ]
  },
  {
   "cell_type": "code",
   "execution_count": 21,
   "id": "018418f2",
   "metadata": {},
   "outputs": [
    {
     "name": "stdout",
     "output_type": "stream",
     "text": [
      "Empty DataFrame\n",
      "Columns: []\n",
      "Index: []\n"
     ]
    }
   ],
   "source": [
    "# \n",
    "\"\"\"Calling pandas DataFrame(D & F are in capitals) in different ways: like in numpy arrays. (1) import pandas DataFrame (it requires to write time and again pandas \n",
    "(2) import pandas as pd (calling pandas as pd for short after onwards. )\n",
    "(3) from pandas import* (it helps to reduce writing pandas time and again (using commands Pandas should not write again))\"\"\"\n",
    "\n",
    "from pandas import*\n",
    "pf=DataFrame() # making empty DataFrame \n",
    "print(pf) \n",
    "\n"
   ]
  },
  {
   "cell_type": "code",
   "execution_count": 22,
   "id": "cae73ce7",
   "metadata": {},
   "outputs": [
    {
     "data": {
      "text/html": [
       "<div>\n",
       "<style scoped>\n",
       "    .dataframe tbody tr th:only-of-type {\n",
       "        vertical-align: middle;\n",
       "    }\n",
       "\n",
       "    .dataframe tbody tr th {\n",
       "        vertical-align: top;\n",
       "    }\n",
       "\n",
       "    .dataframe thead th {\n",
       "        text-align: right;\n",
       "    }\n",
       "</style>\n",
       "<table border=\"1\" class=\"dataframe\">\n",
       "  <thead>\n",
       "    <tr style=\"text-align: right;\">\n",
       "      <th></th>\n",
       "      <th>0</th>\n",
       "    </tr>\n",
       "  </thead>\n",
       "  <tbody>\n",
       "    <tr>\n",
       "      <th>0</th>\n",
       "      <td>a</td>\n",
       "    </tr>\n",
       "    <tr>\n",
       "      <th>1</th>\n",
       "      <td>b</td>\n",
       "    </tr>\n",
       "    <tr>\n",
       "      <th>2</th>\n",
       "      <td>c</td>\n",
       "    </tr>\n",
       "    <tr>\n",
       "      <th>3</th>\n",
       "      <td>d</td>\n",
       "    </tr>\n",
       "    <tr>\n",
       "      <th>4</th>\n",
       "      <td>e</td>\n",
       "    </tr>\n",
       "  </tbody>\n",
       "</table>\n",
       "</div>"
      ],
      "text/plain": [
       "   0\n",
       "0  a\n",
       "1  b\n",
       "2  c\n",
       "3  d\n",
       "4  e"
      ]
     },
     "execution_count": 22,
     "metadata": {},
     "output_type": "execute_result"
    }
   ],
   "source": [
    "# DataFrame with single Variable through list.\n",
    "\n",
    "list=[\"a\",\"b\",\"c\",\"d\",\"e\"]\n",
    "DF=DataFrame(list)\n",
    "DF"
   ]
  },
  {
   "cell_type": "code",
   "execution_count": 23,
   "id": "91c18e4e",
   "metadata": {},
   "outputs": [
    {
     "ename": "SyntaxError",
     "evalue": "invalid syntax (1156678378.py, line 1)",
     "output_type": "error",
     "traceback": [
      "\u001b[1;36m  File \u001b[1;32m\"C:\\Users\\Safal Basnet\\AppData\\Local\\Temp\\ipykernel_3016\\1156678378.py\"\u001b[1;36m, line \u001b[1;32m1\u001b[0m\n\u001b[1;33m    Data Frame with double Variable through list (using list of list)\u001b[0m\n\u001b[1;37m         ^\u001b[0m\n\u001b[1;31mSyntaxError\u001b[0m\u001b[1;31m:\u001b[0m invalid syntax\n"
     ]
    }
   ],
   "source": [
    "Data Frame with double Variable through list (using list of list)\n",
    "\n",
    "list1=[[\"a\",\"b\",\"c\",\"d\",\"e\"],[1,2,3,4,5]]\n",
    "DF1=DataFrame(list1)\n",
    "DF1"
   ]
  },
  {
   "cell_type": "code",
   "execution_count": null,
   "id": "aa3db1e2",
   "metadata": {},
   "outputs": [],
   "source": [
    "# Using DataFrame directly with method (which is nothing but the list of list inside the paranethesis)\n",
    "\n",
    "DF2=DataFrame([[\"a\",\"b\",\"c\",\"d\",\"e\"],[1,2,3,4,5],[100,200,30,400,5]])\n",
    "print(DF2)"
   ]
  },
  {
   "cell_type": "code",
   "execution_count": null,
   "id": "12bccbc8",
   "metadata": {},
   "outputs": [],
   "source": [
    "# Using DataFrame using dictionary indirectly. \"IMP.:\" disctionary should be made {inside bracket} \"KEY\" and variable inside the list. \n",
    "dic1={\"ID\":[1,2,3,4,5,6,7,8,9,10]}\n",
    "print(dic1)\n",
    "print()\n",
    "DF3=DataFrame(dic1)\n",
    "print(DF3)\n"
   ]
  },
  {
   "cell_type": "code",
   "execution_count": null,
   "id": "cb0e8913",
   "metadata": {},
   "outputs": [],
   "source": [
    "# it can be used DataFrame using Dictionary (direct method) as well.\n",
    "DF5=DataFrame({\"ID\":[\"a\",\"b\",\"c\",\"d\",\"e\"],\"Sales\":[20000,30000,50000,70000,100000],\"Advertisement\":[\n",
    "    1249ez\\;x1000,2000,3000,4000,5000]})\n",
    "print(DF5)\n",
    "             \n"
   ]
  },
  {
   "cell_type": "code",
   "execution_count": null,
   "id": "f54546f0",
   "metadata": {},
   "outputs": [],
   "source": [
    "import numpy as np\n",
    "data=np.array([1,10,112,36,44,95,78])\n",
    "print(data)\n",
    "print()\n",
    "data1=np.arange(1,21)\n",
    "print(data1)\n",
    "data2=data1.reshape(4,5)\n",
    "print()\n",
    "print(data2)"
   ]
  },
  {
   "cell_type": "code",
   "execution_count": null,
   "id": "cf07466e",
   "metadata": {},
   "outputs": [],
   "source": [
    "import pandas as pd\n",
    "pan=pd.DataFrame()\n",
    "print(pan)"
   ]
  },
  {
   "cell_type": "code",
   "execution_count": null,
   "id": "81b90af1",
   "metadata": {},
   "outputs": [],
   "source": [
    "pan=pd.DataFrame(data2, index=[\"r1\",\n",
    "                               \"r2\",\n",
    "                               \"r3\",\n",
    "                               \"r4\"],columns=[\"c1\",\n",
    "                                              \"c2\",\n",
    "                                              \"c3\",\n",
    "                                              \"c4\",\n",
    "                                              \"c5\"],dtype=float)\n",
    "print(pan)\n"
   ]
  },
  {
   "cell_type": "code",
   "execution_count": null,
   "id": "1e3b84bb",
   "metadata": {},
   "outputs": [],
   "source": [
    "type(pan)\n"
   ]
  },
  {
   "cell_type": "code",
   "execution_count": null,
   "id": "d97df402",
   "metadata": {},
   "outputs": [],
   "source": [
    "pan.info() # it shows the information of the column. currently, it is showing float below."
   ]
  },
  {
   "cell_type": "code",
   "execution_count": null,
   "id": "daca9b05",
   "metadata": {},
   "outputs": [],
   "source": [
    "pan.head() # by defalut it shows \"top 5 rows\". if you specifies any number of rows inside the parenthesis, it works accordingly.\n"
   ]
  },
  {
   "cell_type": "code",
   "execution_count": null,
   "id": "b6d863bc",
   "metadata": {},
   "outputs": [],
   "source": [
    "pan.tail() # by defalut it shows \"last 5 rows\". if you specifies any number of rows inside the parenthesis, it works accordingly."
   ]
  },
  {
   "cell_type": "code",
   "execution_count": null,
   "id": "2f262d0e",
   "metadata": {},
   "outputs": [],
   "source": [
    "pan.describe() # it describes the data frame in a descriptive ways. "
   ]
  },
  {
   "cell_type": "markdown",
   "id": "af06ccaf",
   "metadata": {},
   "source": [
    "# Indexing in Pandas\n",
    "### two] ways:\n",
    "1) columnname,# by using column name.\n",
    "2) rowindex[.loc] # by using loc parameter.\n",
    "3) rowindex columnindex number[.iloc]"
   ]
  },
  {
   "cell_type": "code",
   "execution_count": null,
   "id": "1ff1d254",
   "metadata": {},
   "outputs": [],
   "source": [
    "pan.head()"
   ]
  },
  {
   "cell_type": "code",
   "execution_count": null,
   "id": "e7b2a7a8",
   "metadata": {},
   "outputs": [],
   "source": [
    "# indexing by column.\n",
    "se=pan[\"c1\"]\n",
    "type(se)"
   ]
  },
  {
   "cell_type": "code",
   "execution_count": null,
   "id": "1b58094e",
   "metadata": {},
   "outputs": [],
   "source": [
    "type(pan[\"c1\"])"
   ]
  },
  {
   "cell_type": "code",
   "execution_count": null,
   "id": "0da205aa",
   "metadata": {},
   "outputs": [],
   "source": [
    "se1=pan[[\"c1\",\"c2\"]]\n",
    "print(se1)\n",
    "\"\"\"The basic difference between series and data frame has been seen.\n",
    "data has presented in either single row or column meaning it is series but \n",
    "whereas data are presenting in more than rows and columns meaning it is data frame.\"\"\"\n",
    "print()\n",
    "type(se1)"
   ]
  },
  {
   "cell_type": "code",
   "execution_count": null,
   "id": "94654f9f",
   "metadata": {},
   "outputs": [],
   "source": [
    "# indexing by row index name (loc parameter).\n",
    "lam=pan.loc[\"r1\"]\n",
    "type(lam)\n"
   ]
  },
  {
   "cell_type": "code",
   "execution_count": null,
   "id": "39972cae",
   "metadata": {},
   "outputs": [],
   "source": [
    "pan.loc[[\"r1\",\"r2\"]]\n"
   ]
  },
  {
   "cell_type": "code",
   "execution_count": null,
   "id": "7253cd41",
   "metadata": {},
   "outputs": [],
   "source": [
    "type(pan.loc[[\"r1\",\"r2\"]]) # we can also assin all above as variable and perform further. "
   ]
  },
  {
   "cell_type": "code",
   "execution_count": null,
   "id": "e70ceef5",
   "metadata": {},
   "outputs": [],
   "source": [
    "pan.head()\n"
   ]
  },
  {
   "cell_type": "code",
   "execution_count": null,
   "id": "8dfdfe2f",
   "metadata": {},
   "outputs": [],
   "source": [
    "pan.iloc[1:4,2:4]"
   ]
  },
  {
   "cell_type": "code",
   "execution_count": null,
   "id": "8db1c07c",
   "metadata": {},
   "outputs": [],
   "source": [
    "pan.iloc[2,2]\n"
   ]
  },
  {
   "cell_type": "code",
   "execution_count": null,
   "id": "6378b69b",
   "metadata": {},
   "outputs": [],
   "source": [
    "pan.iloc[1,3]"
   ]
  },
  {
   "cell_type": "code",
   "execution_count": null,
   "id": "86717ca9",
   "metadata": {},
   "outputs": [],
   "source": [
    "pan.iloc[1,:2]"
   ]
  },
  {
   "cell_type": "code",
   "execution_count": null,
   "id": "49fcb93b",
   "metadata": {},
   "outputs": [],
   "source": [
    "type(pan.iloc[1,:2])"
   ]
  },
  {
   "cell_type": "code",
   "execution_count": null,
   "id": "a29950c1",
   "metadata": {},
   "outputs": [],
   "source": [
    "pan.head()"
   ]
  },
  {
   "cell_type": "code",
   "execution_count": null,
   "id": "5d67724e",
   "metadata": {
    "scrolled": true
   },
   "outputs": [],
   "source": [
    "a=pan.iloc[1,0:2]\n"
   ]
  },
  {
   "cell_type": "code",
   "execution_count": null,
   "id": "0094851c",
   "metadata": {},
   "outputs": [],
   "source": [
    "b=pan.iloc[3,:2]"
   ]
  },
  {
   "cell_type": "code",
   "execution_count": null,
   "id": "9c20a4c8",
   "metadata": {},
   "outputs": [],
   "source": [
    "c=a,b\n",
    "c"
   ]
  },
  {
   "cell_type": "code",
   "execution_count": null,
   "id": "b1fa6535",
   "metadata": {},
   "outputs": [],
   "source": [
    "add=a+b\n",
    "add"
   ]
  },
  {
   "cell_type": "code",
   "execution_count": null,
   "id": "95a43597",
   "metadata": {},
   "outputs": [],
   "source": [
    "mult=a*b\n",
    "mult"
   ]
  },
  {
   "cell_type": "code",
   "execution_count": null,
   "id": "31fd32b3",
   "metadata": {},
   "outputs": [],
   "source": [
    "div=b/a\n",
    "div\n",
    "print()\n",
    "pan.head()"
   ]
  },
  {
   "cell_type": "code",
   "execution_count": null,
   "id": "22bdb012",
   "metadata": {},
   "outputs": [],
   "source": [
    "#Converting DataFrame into arrays.\n",
    "pan.iloc[:,1:]\n",
    "\n"
   ]
  },
  {
   "cell_type": "code",
   "execution_count": null,
   "id": "459c5877",
   "metadata": {},
   "outputs": [],
   "source": [
    "# now into values \n",
    "pan.iloc[:,1:].values"
   ]
  },
  {
   "cell_type": "code",
   "execution_count": null,
   "id": "4743a476",
   "metadata": {},
   "outputs": [],
   "source": [
    "pan"
   ]
  },
  {
   "cell_type": "markdown",
   "id": "0ca37098",
   "metadata": {},
   "source": [
    "# Basic Operations in Pandas"
   ]
  },
  {
   "cell_type": "code",
   "execution_count": null,
   "id": "9572c410",
   "metadata": {},
   "outputs": [],
   "source": [
    "pan.isnull().sum()"
   ]
  },
  {
   "cell_type": "code",
   "execution_count": null,
   "id": "886639b5",
   "metadata": {},
   "outputs": [],
   "source": [
    "pan1=np.array([4,5,6,6,6,6,8,np.nan,1,2,3,7,8,1,9,np.nan,32,7,41,55]).reshape(4,5)\n",
    "print(pan1)"
   ]
  },
  {
   "cell_type": "code",
   "execution_count": null,
   "id": "3257d5b1",
   "metadata": {},
   "outputs": [],
   "source": [
    "pan2=pd.DataFrame(pan1,index=[\"r1\",\"r2\",\"r3\",\"r4\"],columns=[\"c1\",\"c2\",\"c3\",\"c4\",\"c5\"])\n",
    "print(pan2)\n",
    "print()\n",
    "type(pan2)"
   ]
  },
  {
   "cell_type": "code",
   "execution_count": null,
   "id": "dd9dc897",
   "metadata": {},
   "outputs": [],
   "source": [
    "pan2.isnull().sum()"
   ]
  },
  {
   "cell_type": "code",
   "execution_count": 118,
   "id": "b65763e6",
   "metadata": {},
   "outputs": [
    {
     "name": "stdout",
     "output_type": "stream",
     "text": [
      "          Day  temperature  windspeed   event\n",
      "0  01/01/2017           32          6    Rain\n",
      "1  01/02/2017           35          7  Sunny \n",
      "2  01/03/2017           28          2    Snow\n",
      "3  01/04/2017           24          7    Snow\n",
      "4  01/05/2017           32          4    Rain\n",
      "5  01/06/2017           32          2  Sunny \n"
     ]
    }
   ],
   "source": [
    "import pandas as pd\n",
    "df=pd.read_csv(\"C:\\\\Users\\Safal Basnet\\\\Desktop\\\\trial\\\\csv_trial.csv\") #path name and file name with .csv inside the inverted commas\n",
    "print(df)\n"
   ]
  },
  {
   "cell_type": "code",
   "execution_count": 119,
   "id": "f721569a",
   "metadata": {},
   "outputs": [
    {
     "data": {
      "text/plain": [
       "(6, 4)"
      ]
     },
     "execution_count": 119,
     "metadata": {},
     "output_type": "execute_result"
    }
   ],
   "source": [
    "df.shape # touple way."
   ]
  },
  {
   "cell_type": "code",
   "execution_count": 120,
   "id": "4758ee7f",
   "metadata": {},
   "outputs": [],
   "source": [
    "# same can be seen as follows:\n",
    "rows, columns=df.shape"
   ]
  },
  {
   "cell_type": "code",
   "execution_count": 121,
   "id": "f4dede5e",
   "metadata": {},
   "outputs": [
    {
     "data": {
      "text/plain": [
       "6"
      ]
     },
     "execution_count": 121,
     "metadata": {},
     "output_type": "execute_result"
    }
   ],
   "source": [
    "rows"
   ]
  },
  {
   "cell_type": "code",
   "execution_count": 122,
   "id": "d73ab183",
   "metadata": {},
   "outputs": [
    {
     "data": {
      "text/plain": [
       "4"
      ]
     },
     "execution_count": 122,
     "metadata": {},
     "output_type": "execute_result"
    }
   ],
   "source": [
    "columns"
   ]
  },
  {
   "cell_type": "code",
   "execution_count": 123,
   "id": "3cb87b90",
   "metadata": {},
   "outputs": [
    {
     "data": {
      "text/plain": [
       "Index(['Day', 'temperature', 'windspeed', 'event'], dtype='object')"
      ]
     },
     "execution_count": 123,
     "metadata": {},
     "output_type": "execute_result"
    }
   ],
   "source": [
    "df.columns"
   ]
  },
  {
   "cell_type": "code",
   "execution_count": 124,
   "id": "bcd5e671",
   "metadata": {},
   "outputs": [
    {
     "data": {
      "text/plain": [
       "0    01/01/2017\n",
       "1    01/02/2017\n",
       "2    01/03/2017\n",
       "3    01/04/2017\n",
       "4    01/05/2017\n",
       "5    01/06/2017\n",
       "Name: Day, dtype: object"
      ]
     },
     "execution_count": 124,
     "metadata": {},
     "output_type": "execute_result"
    }
   ],
   "source": [
    "df.Day"
   ]
  },
  {
   "cell_type": "code",
   "execution_count": 125,
   "id": "763416a3",
   "metadata": {
    "scrolled": true
   },
   "outputs": [
    {
     "data": {
      "text/plain": [
       "0      Rain\n",
       "1    Sunny \n",
       "2      Snow\n",
       "3      Snow\n",
       "4      Rain\n",
       "5    Sunny \n",
       "Name: event, dtype: object"
      ]
     },
     "execution_count": 125,
     "metadata": {},
     "output_type": "execute_result"
    }
   ],
   "source": [
    "df.event\n"
   ]
  },
  {
   "cell_type": "code",
   "execution_count": 126,
   "id": "106379dd",
   "metadata": {},
   "outputs": [
    {
     "data": {
      "text/plain": [
       "0    01/01/2017\n",
       "1    01/02/2017\n",
       "2    01/03/2017\n",
       "3    01/04/2017\n",
       "4    01/05/2017\n",
       "5    01/06/2017\n",
       "Name: Day, dtype: object"
      ]
     },
     "execution_count": 126,
     "metadata": {},
     "output_type": "execute_result"
    }
   ],
   "source": [
    "# in another way by indexing...\n",
    "df[\"Day\"]"
   ]
  },
  {
   "cell_type": "code",
   "execution_count": 127,
   "id": "ec1279f3",
   "metadata": {},
   "outputs": [
    {
     "data": {
      "text/plain": [
       "0      Rain\n",
       "1    Sunny \n",
       "2      Snow\n",
       "3      Snow\n",
       "4      Rain\n",
       "5    Sunny \n",
       "Name: event, dtype: object"
      ]
     },
     "execution_count": 127,
     "metadata": {},
     "output_type": "execute_result"
    }
   ],
   "source": [
    "df[\"event\"]"
   ]
  },
  {
   "cell_type": "code",
   "execution_count": 128,
   "id": "a908d8e1",
   "metadata": {},
   "outputs": [
    {
     "data": {
      "text/html": [
       "<div>\n",
       "<style scoped>\n",
       "    .dataframe tbody tr th:only-of-type {\n",
       "        vertical-align: middle;\n",
       "    }\n",
       "\n",
       "    .dataframe tbody tr th {\n",
       "        vertical-align: top;\n",
       "    }\n",
       "\n",
       "    .dataframe thead th {\n",
       "        text-align: right;\n",
       "    }\n",
       "</style>\n",
       "<table border=\"1\" class=\"dataframe\">\n",
       "  <thead>\n",
       "    <tr style=\"text-align: right;\">\n",
       "      <th></th>\n",
       "      <th>Day</th>\n",
       "      <th>event</th>\n",
       "    </tr>\n",
       "  </thead>\n",
       "  <tbody>\n",
       "    <tr>\n",
       "      <th>0</th>\n",
       "      <td>01/01/2017</td>\n",
       "      <td>Rain</td>\n",
       "    </tr>\n",
       "    <tr>\n",
       "      <th>1</th>\n",
       "      <td>01/02/2017</td>\n",
       "      <td>Sunny</td>\n",
       "    </tr>\n",
       "    <tr>\n",
       "      <th>2</th>\n",
       "      <td>01/03/2017</td>\n",
       "      <td>Snow</td>\n",
       "    </tr>\n",
       "    <tr>\n",
       "      <th>3</th>\n",
       "      <td>01/04/2017</td>\n",
       "      <td>Snow</td>\n",
       "    </tr>\n",
       "    <tr>\n",
       "      <th>4</th>\n",
       "      <td>01/05/2017</td>\n",
       "      <td>Rain</td>\n",
       "    </tr>\n",
       "    <tr>\n",
       "      <th>5</th>\n",
       "      <td>01/06/2017</td>\n",
       "      <td>Sunny</td>\n",
       "    </tr>\n",
       "  </tbody>\n",
       "</table>\n",
       "</div>"
      ],
      "text/plain": [
       "          Day   event\n",
       "0  01/01/2017    Rain\n",
       "1  01/02/2017  Sunny \n",
       "2  01/03/2017    Snow\n",
       "3  01/04/2017    Snow\n",
       "4  01/05/2017    Rain\n",
       "5  01/06/2017  Sunny "
      ]
     },
     "execution_count": 128,
     "metadata": {},
     "output_type": "execute_result"
    }
   ],
   "source": [
    "df[[\"Day\",\"event\"]]"
   ]
  },
  {
   "cell_type": "code",
   "execution_count": 129,
   "id": "252c878a",
   "metadata": {},
   "outputs": [
    {
     "data": {
      "text/plain": [
       "Index(['Day', 'temperature', 'windspeed', 'event'], dtype='object')"
      ]
     },
     "execution_count": 129,
     "metadata": {},
     "output_type": "execute_result"
    }
   ],
   "source": [
    "df.columns\n",
    "\n"
   ]
  },
  {
   "cell_type": "code",
   "execution_count": 130,
   "id": "fe852be8",
   "metadata": {},
   "outputs": [
    {
     "data": {
      "text/plain": [
       "35"
      ]
     },
     "execution_count": 130,
     "metadata": {},
     "output_type": "execute_result"
    }
   ],
   "source": [
    "df[\"temperature\"].max()"
   ]
  },
  {
   "cell_type": "code",
   "execution_count": 131,
   "id": "f01f95a0",
   "metadata": {},
   "outputs": [
    {
     "data": {
      "text/plain": [
       "24"
      ]
     },
     "execution_count": 131,
     "metadata": {},
     "output_type": "execute_result"
    }
   ],
   "source": [
    "df.temperature.min()"
   ]
  },
  {
   "cell_type": "code",
   "execution_count": 132,
   "id": "0f6d289c",
   "metadata": {},
   "outputs": [
    {
     "data": {
      "text/plain": [
       "30.5"
      ]
     },
     "execution_count": 132,
     "metadata": {},
     "output_type": "execute_result"
    }
   ],
   "source": [
    "df.temperature.mean()"
   ]
  },
  {
   "cell_type": "code",
   "execution_count": 133,
   "id": "4a358942",
   "metadata": {},
   "outputs": [
    {
     "data": {
      "text/plain": [
       "3.8858718455450894"
      ]
     },
     "execution_count": 133,
     "metadata": {},
     "output_type": "execute_result"
    }
   ],
   "source": [
    "df.temperature.std()"
   ]
  },
  {
   "cell_type": "code",
   "execution_count": 134,
   "id": "0d85dc61",
   "metadata": {},
   "outputs": [
    {
     "name": "stdout",
     "output_type": "stream",
     "text": [
      "          Day  temperature  windspeed   event\n",
      "0  01/01/2017           32          6    Rain\n",
      "1  01/02/2017           35          7  Sunny \n",
      "2  01/03/2017           28          2    Snow\n",
      "3  01/04/2017           24          7    Snow\n",
      "4  01/05/2017           32          4    Rain\n",
      "5  01/06/2017           32          2  Sunny \n"
     ]
    },
    {
     "data": {
      "text/html": [
       "<div>\n",
       "<style scoped>\n",
       "    .dataframe tbody tr th:only-of-type {\n",
       "        vertical-align: middle;\n",
       "    }\n",
       "\n",
       "    .dataframe tbody tr th {\n",
       "        vertical-align: top;\n",
       "    }\n",
       "\n",
       "    .dataframe thead th {\n",
       "        text-align: right;\n",
       "    }\n",
       "</style>\n",
       "<table border=\"1\" class=\"dataframe\">\n",
       "  <thead>\n",
       "    <tr style=\"text-align: right;\">\n",
       "      <th></th>\n",
       "      <th>temperature</th>\n",
       "      <th>windspeed</th>\n",
       "    </tr>\n",
       "  </thead>\n",
       "  <tbody>\n",
       "    <tr>\n",
       "      <th>count</th>\n",
       "      <td>6.000000</td>\n",
       "      <td>6.000000</td>\n",
       "    </tr>\n",
       "    <tr>\n",
       "      <th>mean</th>\n",
       "      <td>30.500000</td>\n",
       "      <td>4.666667</td>\n",
       "    </tr>\n",
       "    <tr>\n",
       "      <th>std</th>\n",
       "      <td>3.885872</td>\n",
       "      <td>2.338090</td>\n",
       "    </tr>\n",
       "    <tr>\n",
       "      <th>min</th>\n",
       "      <td>24.000000</td>\n",
       "      <td>2.000000</td>\n",
       "    </tr>\n",
       "    <tr>\n",
       "      <th>25%</th>\n",
       "      <td>29.000000</td>\n",
       "      <td>2.500000</td>\n",
       "    </tr>\n",
       "    <tr>\n",
       "      <th>50%</th>\n",
       "      <td>32.000000</td>\n",
       "      <td>5.000000</td>\n",
       "    </tr>\n",
       "    <tr>\n",
       "      <th>75%</th>\n",
       "      <td>32.000000</td>\n",
       "      <td>6.750000</td>\n",
       "    </tr>\n",
       "    <tr>\n",
       "      <th>max</th>\n",
       "      <td>35.000000</td>\n",
       "      <td>7.000000</td>\n",
       "    </tr>\n",
       "  </tbody>\n",
       "</table>\n",
       "</div>"
      ],
      "text/plain": [
       "       temperature  windspeed\n",
       "count     6.000000   6.000000\n",
       "mean     30.500000   4.666667\n",
       "std       3.885872   2.338090\n",
       "min      24.000000   2.000000\n",
       "25%      29.000000   2.500000\n",
       "50%      32.000000   5.000000\n",
       "75%      32.000000   6.750000\n",
       "max      35.000000   7.000000"
      ]
     },
     "execution_count": 134,
     "metadata": {},
     "output_type": "execute_result"
    }
   ],
   "source": [
    "print(df)\n",
    "df.describe()"
   ]
  },
  {
   "cell_type": "code",
   "execution_count": 135,
   "id": "56648b9e",
   "metadata": {},
   "outputs": [
    {
     "data": {
      "text/html": [
       "<div>\n",
       "<style scoped>\n",
       "    .dataframe tbody tr th:only-of-type {\n",
       "        vertical-align: middle;\n",
       "    }\n",
       "\n",
       "    .dataframe tbody tr th {\n",
       "        vertical-align: top;\n",
       "    }\n",
       "\n",
       "    .dataframe thead th {\n",
       "        text-align: right;\n",
       "    }\n",
       "</style>\n",
       "<table border=\"1\" class=\"dataframe\">\n",
       "  <thead>\n",
       "    <tr style=\"text-align: right;\">\n",
       "      <th></th>\n",
       "      <th>Day</th>\n",
       "      <th>temperature</th>\n",
       "      <th>windspeed</th>\n",
       "      <th>event</th>\n",
       "    </tr>\n",
       "  </thead>\n",
       "  <tbody>\n",
       "    <tr>\n",
       "      <th>0</th>\n",
       "      <td>01/01/2017</td>\n",
       "      <td>32</td>\n",
       "      <td>6</td>\n",
       "      <td>Rain</td>\n",
       "    </tr>\n",
       "    <tr>\n",
       "      <th>1</th>\n",
       "      <td>01/02/2017</td>\n",
       "      <td>35</td>\n",
       "      <td>7</td>\n",
       "      <td>Sunny</td>\n",
       "    </tr>\n",
       "    <tr>\n",
       "      <th>4</th>\n",
       "      <td>01/05/2017</td>\n",
       "      <td>32</td>\n",
       "      <td>4</td>\n",
       "      <td>Rain</td>\n",
       "    </tr>\n",
       "    <tr>\n",
       "      <th>5</th>\n",
       "      <td>01/06/2017</td>\n",
       "      <td>32</td>\n",
       "      <td>2</td>\n",
       "      <td>Sunny</td>\n",
       "    </tr>\n",
       "  </tbody>\n",
       "</table>\n",
       "</div>"
      ],
      "text/plain": [
       "          Day  temperature  windspeed   event\n",
       "0  01/01/2017           32          6    Rain\n",
       "1  01/02/2017           35          7  Sunny \n",
       "4  01/05/2017           32          4    Rain\n",
       "5  01/06/2017           32          2  Sunny "
      ]
     },
     "execution_count": 135,
     "metadata": {},
     "output_type": "execute_result"
    }
   ],
   "source": [
    "df[df.temperature>=32]"
   ]
  },
  {
   "cell_type": "code",
   "execution_count": 136,
   "id": "3be51998",
   "metadata": {},
   "outputs": [
    {
     "data": {
      "text/html": [
       "<div>\n",
       "<style scoped>\n",
       "    .dataframe tbody tr th:only-of-type {\n",
       "        vertical-align: middle;\n",
       "    }\n",
       "\n",
       "    .dataframe tbody tr th {\n",
       "        vertical-align: top;\n",
       "    }\n",
       "\n",
       "    .dataframe thead th {\n",
       "        text-align: right;\n",
       "    }\n",
       "</style>\n",
       "<table border=\"1\" class=\"dataframe\">\n",
       "  <thead>\n",
       "    <tr style=\"text-align: right;\">\n",
       "      <th></th>\n",
       "      <th>Day</th>\n",
       "      <th>temperature</th>\n",
       "      <th>windspeed</th>\n",
       "      <th>event</th>\n",
       "    </tr>\n",
       "  </thead>\n",
       "  <tbody>\n",
       "    <tr>\n",
       "      <th>1</th>\n",
       "      <td>01/02/2017</td>\n",
       "      <td>35</td>\n",
       "      <td>7</td>\n",
       "      <td>Sunny</td>\n",
       "    </tr>\n",
       "  </tbody>\n",
       "</table>\n",
       "</div>"
      ],
      "text/plain": [
       "          Day  temperature  windspeed   event\n",
       "1  01/02/2017           35          7  Sunny "
      ]
     },
     "execution_count": 136,
     "metadata": {},
     "output_type": "execute_result"
    }
   ],
   "source": [
    "df[df.temperature==df.temperature.max()]"
   ]
  },
  {
   "cell_type": "code",
   "execution_count": 137,
   "id": "12d0a2fe",
   "metadata": {},
   "outputs": [
    {
     "data": {
      "text/html": [
       "<div>\n",
       "<style scoped>\n",
       "    .dataframe tbody tr th:only-of-type {\n",
       "        vertical-align: middle;\n",
       "    }\n",
       "\n",
       "    .dataframe tbody tr th {\n",
       "        vertical-align: top;\n",
       "    }\n",
       "\n",
       "    .dataframe thead th {\n",
       "        text-align: right;\n",
       "    }\n",
       "</style>\n",
       "<table border=\"1\" class=\"dataframe\">\n",
       "  <thead>\n",
       "    <tr style=\"text-align: right;\">\n",
       "      <th></th>\n",
       "      <th>Day</th>\n",
       "      <th>temperature</th>\n",
       "      <th>windspeed</th>\n",
       "      <th>event</th>\n",
       "    </tr>\n",
       "  </thead>\n",
       "  <tbody>\n",
       "    <tr>\n",
       "      <th>1</th>\n",
       "      <td>01/02/2017</td>\n",
       "      <td>35</td>\n",
       "      <td>7</td>\n",
       "      <td>Sunny</td>\n",
       "    </tr>\n",
       "  </tbody>\n",
       "</table>\n",
       "</div>"
      ],
      "text/plain": [
       "          Day  temperature  windspeed   event\n",
       "1  01/02/2017           35          7  Sunny "
      ]
     },
     "execution_count": 137,
     "metadata": {},
     "output_type": "execute_result"
    }
   ],
   "source": [
    "# or \n",
    "df[df.temperature==df[\"temperature\"].max()]"
   ]
  },
  {
   "cell_type": "code",
   "execution_count": 138,
   "id": "5e33f075",
   "metadata": {},
   "outputs": [
    {
     "data": {
      "text/html": [
       "<div>\n",
       "<style scoped>\n",
       "    .dataframe tbody tr th:only-of-type {\n",
       "        vertical-align: middle;\n",
       "    }\n",
       "\n",
       "    .dataframe tbody tr th {\n",
       "        vertical-align: top;\n",
       "    }\n",
       "\n",
       "    .dataframe thead th {\n",
       "        text-align: right;\n",
       "    }\n",
       "</style>\n",
       "<table border=\"1\" class=\"dataframe\">\n",
       "  <thead>\n",
       "    <tr style=\"text-align: right;\">\n",
       "      <th></th>\n",
       "      <th>Day</th>\n",
       "      <th>temperature</th>\n",
       "    </tr>\n",
       "  </thead>\n",
       "  <tbody>\n",
       "    <tr>\n",
       "      <th>1</th>\n",
       "      <td>01/02/2017</td>\n",
       "      <td>35</td>\n",
       "    </tr>\n",
       "  </tbody>\n",
       "</table>\n",
       "</div>"
      ],
      "text/plain": [
       "          Day  temperature\n",
       "1  01/02/2017           35"
      ]
     },
     "execution_count": 138,
     "metadata": {},
     "output_type": "execute_result"
    }
   ],
   "source": [
    "df[[\"Day\",\"temperature\"]][df.temperature==df.temperature.max()]"
   ]
  },
  {
   "cell_type": "code",
   "execution_count": 139,
   "id": "f89d6eaf",
   "metadata": {},
   "outputs": [
    {
     "data": {
      "text/html": [
       "<div>\n",
       "<style scoped>\n",
       "    .dataframe tbody tr th:only-of-type {\n",
       "        vertical-align: middle;\n",
       "    }\n",
       "\n",
       "    .dataframe tbody tr th {\n",
       "        vertical-align: top;\n",
       "    }\n",
       "\n",
       "    .dataframe thead th {\n",
       "        text-align: right;\n",
       "    }\n",
       "</style>\n",
       "<table border=\"1\" class=\"dataframe\">\n",
       "  <thead>\n",
       "    <tr style=\"text-align: right;\">\n",
       "      <th></th>\n",
       "      <th>Day</th>\n",
       "      <th>temperature</th>\n",
       "      <th>windspeed</th>\n",
       "      <th>event</th>\n",
       "    </tr>\n",
       "  </thead>\n",
       "  <tbody>\n",
       "    <tr>\n",
       "      <th>0</th>\n",
       "      <td>01/01/2017</td>\n",
       "      <td>32</td>\n",
       "      <td>6</td>\n",
       "      <td>Rain</td>\n",
       "    </tr>\n",
       "    <tr>\n",
       "      <th>1</th>\n",
       "      <td>01/02/2017</td>\n",
       "      <td>35</td>\n",
       "      <td>7</td>\n",
       "      <td>Sunny</td>\n",
       "    </tr>\n",
       "    <tr>\n",
       "      <th>2</th>\n",
       "      <td>01/03/2017</td>\n",
       "      <td>28</td>\n",
       "      <td>2</td>\n",
       "      <td>Snow</td>\n",
       "    </tr>\n",
       "    <tr>\n",
       "      <th>3</th>\n",
       "      <td>01/04/2017</td>\n",
       "      <td>24</td>\n",
       "      <td>7</td>\n",
       "      <td>Snow</td>\n",
       "    </tr>\n",
       "    <tr>\n",
       "      <th>4</th>\n",
       "      <td>01/05/2017</td>\n",
       "      <td>32</td>\n",
       "      <td>4</td>\n",
       "      <td>Rain</td>\n",
       "    </tr>\n",
       "    <tr>\n",
       "      <th>5</th>\n",
       "      <td>01/06/2017</td>\n",
       "      <td>32</td>\n",
       "      <td>2</td>\n",
       "      <td>Sunny</td>\n",
       "    </tr>\n",
       "  </tbody>\n",
       "</table>\n",
       "</div>"
      ],
      "text/plain": [
       "          Day  temperature  windspeed   event\n",
       "0  01/01/2017           32          6    Rain\n",
       "1  01/02/2017           35          7  Sunny \n",
       "2  01/03/2017           28          2    Snow\n",
       "3  01/04/2017           24          7    Snow\n",
       "4  01/05/2017           32          4    Rain\n",
       "5  01/06/2017           32          2  Sunny "
      ]
     },
     "execution_count": 139,
     "metadata": {},
     "output_type": "execute_result"
    }
   ],
   "source": [
    "# any column can make as an index.\n",
    "df.set_index(\"Day\")# without inplase =true gives the same old index.\n",
    "df"
   ]
  },
  {
   "cell_type": "code",
   "execution_count": 140,
   "id": "5208710a",
   "metadata": {},
   "outputs": [
    {
     "data": {
      "text/html": [
       "<div>\n",
       "<style scoped>\n",
       "    .dataframe tbody tr th:only-of-type {\n",
       "        vertical-align: middle;\n",
       "    }\n",
       "\n",
       "    .dataframe tbody tr th {\n",
       "        vertical-align: top;\n",
       "    }\n",
       "\n",
       "    .dataframe thead th {\n",
       "        text-align: right;\n",
       "    }\n",
       "</style>\n",
       "<table border=\"1\" class=\"dataframe\">\n",
       "  <thead>\n",
       "    <tr style=\"text-align: right;\">\n",
       "      <th></th>\n",
       "      <th>temperature</th>\n",
       "      <th>windspeed</th>\n",
       "      <th>event</th>\n",
       "    </tr>\n",
       "    <tr>\n",
       "      <th>Day</th>\n",
       "      <th></th>\n",
       "      <th></th>\n",
       "      <th></th>\n",
       "    </tr>\n",
       "  </thead>\n",
       "  <tbody>\n",
       "    <tr>\n",
       "      <th>01/01/2017</th>\n",
       "      <td>32</td>\n",
       "      <td>6</td>\n",
       "      <td>Rain</td>\n",
       "    </tr>\n",
       "    <tr>\n",
       "      <th>01/02/2017</th>\n",
       "      <td>35</td>\n",
       "      <td>7</td>\n",
       "      <td>Sunny</td>\n",
       "    </tr>\n",
       "    <tr>\n",
       "      <th>01/03/2017</th>\n",
       "      <td>28</td>\n",
       "      <td>2</td>\n",
       "      <td>Snow</td>\n",
       "    </tr>\n",
       "    <tr>\n",
       "      <th>01/04/2017</th>\n",
       "      <td>24</td>\n",
       "      <td>7</td>\n",
       "      <td>Snow</td>\n",
       "    </tr>\n",
       "    <tr>\n",
       "      <th>01/05/2017</th>\n",
       "      <td>32</td>\n",
       "      <td>4</td>\n",
       "      <td>Rain</td>\n",
       "    </tr>\n",
       "    <tr>\n",
       "      <th>01/06/2017</th>\n",
       "      <td>32</td>\n",
       "      <td>2</td>\n",
       "      <td>Sunny</td>\n",
       "    </tr>\n",
       "  </tbody>\n",
       "</table>\n",
       "</div>"
      ],
      "text/plain": [
       "            temperature  windspeed   event\n",
       "Day                                       \n",
       "01/01/2017           32          6    Rain\n",
       "01/02/2017           35          7  Sunny \n",
       "01/03/2017           28          2    Snow\n",
       "01/04/2017           24          7    Snow\n",
       "01/05/2017           32          4    Rain\n",
       "01/06/2017           32          2  Sunny "
      ]
     },
     "execution_count": 140,
     "metadata": {},
     "output_type": "execute_result"
    }
   ],
   "source": [
    "df.set_index(\"Day\",inplace=True)\n",
    "df"
   ]
  },
  {
   "cell_type": "code",
   "execution_count": 141,
   "id": "dfac9dbd",
   "metadata": {},
   "outputs": [
    {
     "data": {
      "text/html": [
       "<div>\n",
       "<style scoped>\n",
       "    .dataframe tbody tr th:only-of-type {\n",
       "        vertical-align: middle;\n",
       "    }\n",
       "\n",
       "    .dataframe tbody tr th {\n",
       "        vertical-align: top;\n",
       "    }\n",
       "\n",
       "    .dataframe thead th {\n",
       "        text-align: right;\n",
       "    }\n",
       "</style>\n",
       "<table border=\"1\" class=\"dataframe\">\n",
       "  <thead>\n",
       "    <tr style=\"text-align: right;\">\n",
       "      <th></th>\n",
       "      <th>temperature</th>\n",
       "      <th>windspeed</th>\n",
       "      <th>event</th>\n",
       "    </tr>\n",
       "    <tr>\n",
       "      <th>Day</th>\n",
       "      <th></th>\n",
       "      <th></th>\n",
       "      <th></th>\n",
       "    </tr>\n",
       "  </thead>\n",
       "  <tbody>\n",
       "    <tr>\n",
       "      <th>01/01/2017</th>\n",
       "      <td>32</td>\n",
       "      <td>6</td>\n",
       "      <td>Rain</td>\n",
       "    </tr>\n",
       "    <tr>\n",
       "      <th>01/02/2017</th>\n",
       "      <td>35</td>\n",
       "      <td>7</td>\n",
       "      <td>Sunny</td>\n",
       "    </tr>\n",
       "    <tr>\n",
       "      <th>01/03/2017</th>\n",
       "      <td>28</td>\n",
       "      <td>2</td>\n",
       "      <td>Snow</td>\n",
       "    </tr>\n",
       "    <tr>\n",
       "      <th>01/04/2017</th>\n",
       "      <td>24</td>\n",
       "      <td>7</td>\n",
       "      <td>Snow</td>\n",
       "    </tr>\n",
       "    <tr>\n",
       "      <th>01/05/2017</th>\n",
       "      <td>32</td>\n",
       "      <td>4</td>\n",
       "      <td>Rain</td>\n",
       "    </tr>\n",
       "    <tr>\n",
       "      <th>01/06/2017</th>\n",
       "      <td>32</td>\n",
       "      <td>2</td>\n",
       "      <td>Sunny</td>\n",
       "    </tr>\n",
       "  </tbody>\n",
       "</table>\n",
       "</div>"
      ],
      "text/plain": [
       "            temperature  windspeed   event\n",
       "Day                                       \n",
       "01/01/2017           32          6    Rain\n",
       "01/02/2017           35          7  Sunny \n",
       "01/03/2017           28          2    Snow\n",
       "01/04/2017           24          7    Snow\n",
       "01/05/2017           32          4    Rain\n",
       "01/06/2017           32          2  Sunny "
      ]
     },
     "execution_count": 141,
     "metadata": {},
     "output_type": "execute_result"
    }
   ],
   "source": [
    "df\n"
   ]
  },
  {
   "cell_type": "code",
   "execution_count": 142,
   "id": "0bbaaddb",
   "metadata": {},
   "outputs": [
    {
     "data": {
      "text/plain": [
       "temperature      32\n",
       "windspeed         4\n",
       "event          Rain\n",
       "Name: 01/05/2017, dtype: object"
      ]
     },
     "execution_count": 142,
     "metadata": {},
     "output_type": "execute_result"
    }
   ],
   "source": [
    "df.loc[\"01/05/2017\"]"
   ]
  },
  {
   "cell_type": "code",
   "execution_count": 143,
   "id": "eae23508",
   "metadata": {},
   "outputs": [
    {
     "data": {
      "text/plain": [
       "temperature      28\n",
       "windspeed         2\n",
       "event          Snow\n",
       "Name: 01/03/2017, dtype: object"
      ]
     },
     "execution_count": 143,
     "metadata": {},
     "output_type": "execute_result"
    }
   ],
   "source": [
    "df.loc[\"01/03/2017\"]"
   ]
  },
  {
   "cell_type": "code",
   "execution_count": 144,
   "id": "0beb0e0a",
   "metadata": {},
   "outputs": [
    {
     "data": {
      "text/html": [
       "<div>\n",
       "<style scoped>\n",
       "    .dataframe tbody tr th:only-of-type {\n",
       "        vertical-align: middle;\n",
       "    }\n",
       "\n",
       "    .dataframe tbody tr th {\n",
       "        vertical-align: top;\n",
       "    }\n",
       "\n",
       "    .dataframe thead th {\n",
       "        text-align: right;\n",
       "    }\n",
       "</style>\n",
       "<table border=\"1\" class=\"dataframe\">\n",
       "  <thead>\n",
       "    <tr style=\"text-align: right;\">\n",
       "      <th></th>\n",
       "      <th>Day</th>\n",
       "      <th>temperature</th>\n",
       "      <th>windspeed</th>\n",
       "      <th>event</th>\n",
       "    </tr>\n",
       "  </thead>\n",
       "  <tbody>\n",
       "    <tr>\n",
       "      <th>0</th>\n",
       "      <td>01/01/2017</td>\n",
       "      <td>32</td>\n",
       "      <td>6</td>\n",
       "      <td>Rain</td>\n",
       "    </tr>\n",
       "    <tr>\n",
       "      <th>1</th>\n",
       "      <td>01/02/2017</td>\n",
       "      <td>35</td>\n",
       "      <td>7</td>\n",
       "      <td>Sunny</td>\n",
       "    </tr>\n",
       "    <tr>\n",
       "      <th>2</th>\n",
       "      <td>01/03/2017</td>\n",
       "      <td>28</td>\n",
       "      <td>2</td>\n",
       "      <td>Snow</td>\n",
       "    </tr>\n",
       "    <tr>\n",
       "      <th>3</th>\n",
       "      <td>01/04/2017</td>\n",
       "      <td>24</td>\n",
       "      <td>7</td>\n",
       "      <td>Snow</td>\n",
       "    </tr>\n",
       "    <tr>\n",
       "      <th>4</th>\n",
       "      <td>01/05/2017</td>\n",
       "      <td>32</td>\n",
       "      <td>4</td>\n",
       "      <td>Rain</td>\n",
       "    </tr>\n",
       "    <tr>\n",
       "      <th>5</th>\n",
       "      <td>01/06/2017</td>\n",
       "      <td>32</td>\n",
       "      <td>2</td>\n",
       "      <td>Sunny</td>\n",
       "    </tr>\n",
       "  </tbody>\n",
       "</table>\n",
       "</div>"
      ],
      "text/plain": [
       "          Day  temperature  windspeed   event\n",
       "0  01/01/2017           32          6    Rain\n",
       "1  01/02/2017           35          7  Sunny \n",
       "2  01/03/2017           28          2    Snow\n",
       "3  01/04/2017           24          7    Snow\n",
       "4  01/05/2017           32          4    Rain\n",
       "5  01/06/2017           32          2  Sunny "
      ]
     },
     "execution_count": 144,
     "metadata": {},
     "output_type": "execute_result"
    }
   ],
   "source": [
    "# Reset index at origin then,\n",
    "df.reset_index(inplace=True)\n",
    "df"
   ]
  },
  {
   "cell_type": "markdown",
   "id": "f544d958",
   "metadata": {},
   "source": [
    "## we can make DataFrame in different ways: bringing by different sources like csv files, excel files, ... and from dictionary, tuple and list as well. "
   ]
  },
  {
   "cell_type": "code",
   "execution_count": 3,
   "id": "944598fc",
   "metadata": {},
   "outputs": [
    {
     "data": {
      "text/html": [
       "<div>\n",
       "<style scoped>\n",
       "    .dataframe tbody tr th:only-of-type {\n",
       "        vertical-align: middle;\n",
       "    }\n",
       "\n",
       "    .dataframe tbody tr th {\n",
       "        vertical-align: top;\n",
       "    }\n",
       "\n",
       "    .dataframe thead th {\n",
       "        text-align: right;\n",
       "    }\n",
       "</style>\n",
       "<table border=\"1\" class=\"dataframe\">\n",
       "  <thead>\n",
       "    <tr style=\"text-align: right;\">\n",
       "      <th></th>\n",
       "      <th>Day</th>\n",
       "      <th>temperature</th>\n",
       "      <th>windspeed</th>\n",
       "      <th>event</th>\n",
       "    </tr>\n",
       "  </thead>\n",
       "  <tbody>\n",
       "    <tr>\n",
       "      <th>0</th>\n",
       "      <td>01/01/2017</td>\n",
       "      <td>32</td>\n",
       "      <td>6</td>\n",
       "      <td>Rain</td>\n",
       "    </tr>\n",
       "    <tr>\n",
       "      <th>1</th>\n",
       "      <td>01/02/2017</td>\n",
       "      <td>35</td>\n",
       "      <td>7</td>\n",
       "      <td>Sunny</td>\n",
       "    </tr>\n",
       "    <tr>\n",
       "      <th>2</th>\n",
       "      <td>01/03/2017</td>\n",
       "      <td>28</td>\n",
       "      <td>2</td>\n",
       "      <td>Snow</td>\n",
       "    </tr>\n",
       "    <tr>\n",
       "      <th>3</th>\n",
       "      <td>01/04/2017</td>\n",
       "      <td>24</td>\n",
       "      <td>7</td>\n",
       "      <td>Snow</td>\n",
       "    </tr>\n",
       "    <tr>\n",
       "      <th>4</th>\n",
       "      <td>01/05/2017</td>\n",
       "      <td>32</td>\n",
       "      <td>4</td>\n",
       "      <td>Rain</td>\n",
       "    </tr>\n",
       "    <tr>\n",
       "      <th>5</th>\n",
       "      <td>01/06/2017</td>\n",
       "      <td>32</td>\n",
       "      <td>2</td>\n",
       "      <td>Sunny</td>\n",
       "    </tr>\n",
       "  </tbody>\n",
       "</table>\n",
       "</div>"
      ],
      "text/plain": [
       "          Day  temperature  windspeed   event\n",
       "0  01/01/2017           32          6    Rain\n",
       "1  01/02/2017           35          7  Sunny \n",
       "2  01/03/2017           28          2    Snow\n",
       "3  01/04/2017           24          7    Snow\n",
       "4  01/05/2017           32          4    Rain\n",
       "5  01/06/2017           32          2  Sunny "
      ]
     },
     "execution_count": 3,
     "metadata": {},
     "output_type": "execute_result"
    }
   ],
   "source": [
    "import pandas as pd\n",
    "# DataFrame through csv and excel as follows:\n",
    "# CSV files. command is: frame.read_csv(\"path_namecsv\") example.\n",
    "frame=pd.read_csv(\"C:\\\\Users\\\\Safal Basnet\\\\Desktop\\\\trial\\\\csv_trial.csv\") \n",
    "# single separator \\ is enough after first separator.like: frame=pd.read_csv(\"C:\\\\Users\\Safal Basnet\\Desktop\\csv_trial.csv\") \n",
    "frame"
   ]
  },
  {
   "cell_type": "code",
   "execution_count": 4,
   "id": "05feec14",
   "metadata": {},
   "outputs": [
    {
     "data": {
      "text/html": [
       "<div>\n",
       "<style scoped>\n",
       "    .dataframe tbody tr th:only-of-type {\n",
       "        vertical-align: middle;\n",
       "    }\n",
       "\n",
       "    .dataframe tbody tr th {\n",
       "        vertical-align: top;\n",
       "    }\n",
       "\n",
       "    .dataframe thead th {\n",
       "        text-align: right;\n",
       "    }\n",
       "</style>\n",
       "<table border=\"1\" class=\"dataframe\">\n",
       "  <thead>\n",
       "    <tr style=\"text-align: right;\">\n",
       "      <th></th>\n",
       "      <th>Day</th>\n",
       "      <th>temperature</th>\n",
       "      <th>windspeed</th>\n",
       "      <th>event</th>\n",
       "    </tr>\n",
       "  </thead>\n",
       "  <tbody>\n",
       "    <tr>\n",
       "      <th>0</th>\n",
       "      <td>01/01/2017</td>\n",
       "      <td>32</td>\n",
       "      <td>6</td>\n",
       "      <td>Rain</td>\n",
       "    </tr>\n",
       "    <tr>\n",
       "      <th>1</th>\n",
       "      <td>01/02/2017</td>\n",
       "      <td>35</td>\n",
       "      <td>7</td>\n",
       "      <td>Sunny</td>\n",
       "    </tr>\n",
       "    <tr>\n",
       "      <th>2</th>\n",
       "      <td>01/03/2017</td>\n",
       "      <td>28</td>\n",
       "      <td>2</td>\n",
       "      <td>Snow</td>\n",
       "    </tr>\n",
       "    <tr>\n",
       "      <th>3</th>\n",
       "      <td>01/04/2017</td>\n",
       "      <td>24</td>\n",
       "      <td>7</td>\n",
       "      <td>Snow</td>\n",
       "    </tr>\n",
       "    <tr>\n",
       "      <th>4</th>\n",
       "      <td>01/05/2017</td>\n",
       "      <td>32</td>\n",
       "      <td>4</td>\n",
       "      <td>Rain</td>\n",
       "    </tr>\n",
       "    <tr>\n",
       "      <th>5</th>\n",
       "      <td>01/06/2017</td>\n",
       "      <td>32</td>\n",
       "      <td>2</td>\n",
       "      <td>Sunny</td>\n",
       "    </tr>\n",
       "  </tbody>\n",
       "</table>\n",
       "</div>"
      ],
      "text/plain": [
       "          Day  temperature  windspeed   event\n",
       "0  01/01/2017           32          6    Rain\n",
       "1  01/02/2017           35          7  Sunny \n",
       "2  01/03/2017           28          2    Snow\n",
       "3  01/04/2017           24          7    Snow\n",
       "4  01/05/2017           32          4    Rain\n",
       "5  01/06/2017           32          2  Sunny "
      ]
     },
     "execution_count": 4,
     "metadata": {},
     "output_type": "execute_result"
    }
   ],
   "source": [
    "cvdf=pd.read_csv(\"C:\\\\Users\\\\Safal Basnet\\\\Desktop\\\\trial\\\\csv_trial.csv\")\n",
    "cvdf"
   ]
  },
  {
   "cell_type": "code",
   "execution_count": 18,
   "id": "0a59a528",
   "metadata": {},
   "outputs": [
    {
     "data": {
      "text/html": [
       "<div>\n",
       "<style scoped>\n",
       "    .dataframe tbody tr th:only-of-type {\n",
       "        vertical-align: middle;\n",
       "    }\n",
       "\n",
       "    .dataframe tbody tr th {\n",
       "        vertical-align: top;\n",
       "    }\n",
       "\n",
       "    .dataframe thead th {\n",
       "        text-align: right;\n",
       "    }\n",
       "</style>\n",
       "<table border=\"1\" class=\"dataframe\">\n",
       "  <thead>\n",
       "    <tr style=\"text-align: right;\">\n",
       "      <th></th>\n",
       "      <th>Stocks data</th>\n",
       "      <th>Unnamed: 1</th>\n",
       "      <th>Unnamed: 2</th>\n",
       "      <th>Unnamed: 3</th>\n",
       "    </tr>\n",
       "  </thead>\n",
       "  <tbody>\n",
       "    <tr>\n",
       "      <th>0</th>\n",
       "      <td>Day</td>\n",
       "      <td>temperature</td>\n",
       "      <td>windspeed</td>\n",
       "      <td>event</td>\n",
       "    </tr>\n",
       "    <tr>\n",
       "      <th>1</th>\n",
       "      <td>01/01/2017</td>\n",
       "      <td>32</td>\n",
       "      <td>6</td>\n",
       "      <td>Rain</td>\n",
       "    </tr>\n",
       "    <tr>\n",
       "      <th>2</th>\n",
       "      <td>01/02/2017</td>\n",
       "      <td>35</td>\n",
       "      <td>7</td>\n",
       "      <td>Sunny</td>\n",
       "    </tr>\n",
       "    <tr>\n",
       "      <th>3</th>\n",
       "      <td>01/03/2017</td>\n",
       "      <td>28</td>\n",
       "      <td>2</td>\n",
       "      <td>Snow</td>\n",
       "    </tr>\n",
       "    <tr>\n",
       "      <th>4</th>\n",
       "      <td>01/04/2017</td>\n",
       "      <td>24</td>\n",
       "      <td>7</td>\n",
       "      <td>Snow</td>\n",
       "    </tr>\n",
       "    <tr>\n",
       "      <th>5</th>\n",
       "      <td>01/05/2017</td>\n",
       "      <td>32</td>\n",
       "      <td>4</td>\n",
       "      <td>Rain</td>\n",
       "    </tr>\n",
       "    <tr>\n",
       "      <th>6</th>\n",
       "      <td>01/06/2017</td>\n",
       "      <td>32</td>\n",
       "      <td>2</td>\n",
       "      <td>Sunny</td>\n",
       "    </tr>\n",
       "  </tbody>\n",
       "</table>\n",
       "</div>"
      ],
      "text/plain": [
       "  Stocks data   Unnamed: 1 Unnamed: 2 Unnamed: 3\n",
       "0         Day  temperature  windspeed      event\n",
       "1  01/01/2017           32          6       Rain\n",
       "2  01/02/2017           35          7     Sunny \n",
       "3  01/03/2017           28          2       Snow\n",
       "4  01/04/2017           24          7       Snow\n",
       "5  01/05/2017           32          4       Rain\n",
       "6  01/06/2017           32          2     Sunny "
      ]
     },
     "execution_count": 18,
     "metadata": {},
     "output_type": "execute_result"
    }
   ],
   "source": [
    "df1=pd.read_csv(\"C:\\\\Users\\\\Safal Basnet\\\\Desktop\\\\trial\\\\csv_try.csv\")\n",
    "df1"
   ]
  },
  {
   "cell_type": "code",
   "execution_count": 19,
   "id": "4cf22d18",
   "metadata": {},
   "outputs": [
    {
     "data": {
      "text/html": [
       "<div>\n",
       "<style scoped>\n",
       "    .dataframe tbody tr th:only-of-type {\n",
       "        vertical-align: middle;\n",
       "    }\n",
       "\n",
       "    .dataframe tbody tr th {\n",
       "        vertical-align: top;\n",
       "    }\n",
       "\n",
       "    .dataframe thead th {\n",
       "        text-align: right;\n",
       "    }\n",
       "</style>\n",
       "<table border=\"1\" class=\"dataframe\">\n",
       "  <thead>\n",
       "    <tr style=\"text-align: right;\">\n",
       "      <th></th>\n",
       "      <th>Stocks data</th>\n",
       "      <th>Unnamed: 1</th>\n",
       "      <th>Unnamed: 2</th>\n",
       "      <th>Unnamed: 3</th>\n",
       "    </tr>\n",
       "  </thead>\n",
       "  <tbody>\n",
       "    <tr>\n",
       "      <th>0</th>\n",
       "      <td>Day</td>\n",
       "      <td>temperature</td>\n",
       "      <td>windspeed</td>\n",
       "      <td>event</td>\n",
       "    </tr>\n",
       "    <tr>\n",
       "      <th>1</th>\n",
       "      <td>01/01/2017</td>\n",
       "      <td>32</td>\n",
       "      <td>6</td>\n",
       "      <td>Rain</td>\n",
       "    </tr>\n",
       "    <tr>\n",
       "      <th>2</th>\n",
       "      <td>01/02/2017</td>\n",
       "      <td>35</td>\n",
       "      <td>7</td>\n",
       "      <td>Sunny</td>\n",
       "    </tr>\n",
       "    <tr>\n",
       "      <th>3</th>\n",
       "      <td>01/03/2017</td>\n",
       "      <td>28</td>\n",
       "      <td>2</td>\n",
       "      <td>Snow</td>\n",
       "    </tr>\n",
       "    <tr>\n",
       "      <th>4</th>\n",
       "      <td>01/04/2017</td>\n",
       "      <td>24</td>\n",
       "      <td>7</td>\n",
       "      <td>Snow</td>\n",
       "    </tr>\n",
       "    <tr>\n",
       "      <th>5</th>\n",
       "      <td>01/05/2017</td>\n",
       "      <td>32</td>\n",
       "      <td>4</td>\n",
       "      <td>Rain</td>\n",
       "    </tr>\n",
       "    <tr>\n",
       "      <th>6</th>\n",
       "      <td>01/06/2017</td>\n",
       "      <td>32</td>\n",
       "      <td>2</td>\n",
       "      <td>Sunny</td>\n",
       "    </tr>\n",
       "  </tbody>\n",
       "</table>\n",
       "</div>"
      ],
      "text/plain": [
       "  Stocks data   Unnamed: 1 Unnamed: 2 Unnamed: 3\n",
       "0         Day  temperature  windspeed      event\n",
       "1  01/01/2017           32          6       Rain\n",
       "2  01/02/2017           35          7     Sunny \n",
       "3  01/03/2017           28          2       Snow\n",
       "4  01/04/2017           24          7       Snow\n",
       "5  01/05/2017           32          4       Rain\n",
       "6  01/06/2017           32          2     Sunny "
      ]
     },
     "execution_count": 19,
     "metadata": {},
     "output_type": "execute_result"
    }
   ],
   "source": [
    "df2=pd.read_csv(\"C:\\\\Users\\\\Safal Basnet\\\\Desktop\\\\trial\\\\csv_try.csv\")\n",
    "df2\n",
    "# Comparing df1 and df2, df2 is clean and expected. "
   ]
  },
  {
   "cell_type": "code",
   "execution_count": 27,
   "id": "50d54b74",
   "metadata": {},
   "outputs": [
    {
     "data": {
      "text/html": [
       "<div>\n",
       "<style scoped>\n",
       "    .dataframe tbody tr th:only-of-type {\n",
       "        vertical-align: middle;\n",
       "    }\n",
       "\n",
       "    .dataframe tbody tr th {\n",
       "        vertical-align: top;\n",
       "    }\n",
       "\n",
       "    .dataframe thead th {\n",
       "        text-align: right;\n",
       "    }\n",
       "</style>\n",
       "<table border=\"1\" class=\"dataframe\">\n",
       "  <thead>\n",
       "    <tr style=\"text-align: right;\">\n",
       "      <th></th>\n",
       "      <th>Day</th>\n",
       "      <th>temperature</th>\n",
       "      <th>windspeed</th>\n",
       "      <th>event</th>\n",
       "    </tr>\n",
       "  </thead>\n",
       "  <tbody>\n",
       "    <tr>\n",
       "      <th>0</th>\n",
       "      <td>01/01/2017</td>\n",
       "      <td>32</td>\n",
       "      <td>6</td>\n",
       "      <td>Rain</td>\n",
       "    </tr>\n",
       "    <tr>\n",
       "      <th>1</th>\n",
       "      <td>01/02/2017</td>\n",
       "      <td>35</td>\n",
       "      <td>7</td>\n",
       "      <td>Sunny</td>\n",
       "    </tr>\n",
       "    <tr>\n",
       "      <th>2</th>\n",
       "      <td>01/03/2017</td>\n",
       "      <td>28</td>\n",
       "      <td>2</td>\n",
       "      <td>Snow</td>\n",
       "    </tr>\n",
       "    <tr>\n",
       "      <th>3</th>\n",
       "      <td>01/04/2017</td>\n",
       "      <td>24</td>\n",
       "      <td>7</td>\n",
       "      <td>Snow</td>\n",
       "    </tr>\n",
       "    <tr>\n",
       "      <th>4</th>\n",
       "      <td>01/05/2017</td>\n",
       "      <td>32</td>\n",
       "      <td>4</td>\n",
       "      <td>Rain</td>\n",
       "    </tr>\n",
       "    <tr>\n",
       "      <th>5</th>\n",
       "      <td>01/06/2017</td>\n",
       "      <td>32</td>\n",
       "      <td>2</td>\n",
       "      <td>Sunny</td>\n",
       "    </tr>\n",
       "  </tbody>\n",
       "</table>\n",
       "</div>"
      ],
      "text/plain": [
       "          Day  temperature  windspeed   event\n",
       "0  01/01/2017           32          6    Rain\n",
       "1  01/02/2017           35          7  Sunny \n",
       "2  01/03/2017           28          2    Snow\n",
       "3  01/04/2017           24          7    Snow\n",
       "4  01/05/2017           32          4    Rain\n",
       "5  01/06/2017           32          2  Sunny "
      ]
     },
     "execution_count": 27,
     "metadata": {},
     "output_type": "execute_result"
    }
   ],
   "source": [
    "# in other ways for the same cleaning:\n",
    "df1=pd.read_csv(\"C:\\\\Users\\\\Safal Basnet\\\\Desktop\\\\trial\\\\csv_try.csv\", header=1)\n",
    "df1"
   ]
  },
  {
   "cell_type": "code",
   "execution_count": 28,
   "id": "980c6849",
   "metadata": {},
   "outputs": [
    {
     "data": {
      "text/html": [
       "<div>\n",
       "<style scoped>\n",
       "    .dataframe tbody tr th:only-of-type {\n",
       "        vertical-align: middle;\n",
       "    }\n",
       "\n",
       "    .dataframe tbody tr th {\n",
       "        vertical-align: top;\n",
       "    }\n",
       "\n",
       "    .dataframe thead th {\n",
       "        text-align: right;\n",
       "    }\n",
       "</style>\n",
       "<table border=\"1\" class=\"dataframe\">\n",
       "  <thead>\n",
       "    <tr style=\"text-align: right;\">\n",
       "      <th></th>\n",
       "      <th>01/01/2017</th>\n",
       "      <th>32</th>\n",
       "      <th>6</th>\n",
       "      <th>Rain</th>\n",
       "    </tr>\n",
       "  </thead>\n",
       "  <tbody>\n",
       "    <tr>\n",
       "      <th>0</th>\n",
       "      <td>01/02/2017</td>\n",
       "      <td>35</td>\n",
       "      <td>7</td>\n",
       "      <td>Sunny</td>\n",
       "    </tr>\n",
       "    <tr>\n",
       "      <th>1</th>\n",
       "      <td>01/03/2017</td>\n",
       "      <td>28</td>\n",
       "      <td>2</td>\n",
       "      <td>Snow</td>\n",
       "    </tr>\n",
       "    <tr>\n",
       "      <th>2</th>\n",
       "      <td>01/04/2017</td>\n",
       "      <td>24</td>\n",
       "      <td>7</td>\n",
       "      <td>Snow</td>\n",
       "    </tr>\n",
       "    <tr>\n",
       "      <th>3</th>\n",
       "      <td>01/05/2017</td>\n",
       "      <td>32</td>\n",
       "      <td>4</td>\n",
       "      <td>Rain</td>\n",
       "    </tr>\n",
       "    <tr>\n",
       "      <th>4</th>\n",
       "      <td>01/06/2017</td>\n",
       "      <td>32</td>\n",
       "      <td>2</td>\n",
       "      <td>Sunny</td>\n",
       "    </tr>\n",
       "  </tbody>\n",
       "</table>\n",
       "</div>"
      ],
      "text/plain": [
       "   01/01/2017  32  6    Rain\n",
       "0  01/02/2017  35  7  Sunny \n",
       "1  01/03/2017  28  2    Snow\n",
       "2  01/04/2017  24  7    Snow\n",
       "3  01/05/2017  32  4    Rain\n",
       "4  01/06/2017  32  2  Sunny "
      ]
     },
     "execution_count": 28,
     "metadata": {},
     "output_type": "execute_result"
    }
   ],
   "source": [
    "# If we do not have column names or headings of the DataFrame \n",
    "df2=pd.read_csv(\"C:\\\\Users\\\\Safal Basnet\\\\Desktop\\\\trial\\\\csv_no_column_name.csv\")\n",
    "df2"
   ]
  },
  {
   "cell_type": "code",
   "execution_count": 39,
   "id": "29c45e0c",
   "metadata": {},
   "outputs": [
    {
     "data": {
      "text/html": [
       "<div>\n",
       "<style scoped>\n",
       "    .dataframe tbody tr th:only-of-type {\n",
       "        vertical-align: middle;\n",
       "    }\n",
       "\n",
       "    .dataframe tbody tr th {\n",
       "        vertical-align: top;\n",
       "    }\n",
       "\n",
       "    .dataframe thead th {\n",
       "        text-align: right;\n",
       "    }\n",
       "</style>\n",
       "<table border=\"1\" class=\"dataframe\">\n",
       "  <thead>\n",
       "    <tr style=\"text-align: right;\">\n",
       "      <th></th>\n",
       "      <th>0</th>\n",
       "      <th>1</th>\n",
       "      <th>2</th>\n",
       "      <th>3</th>\n",
       "    </tr>\n",
       "  </thead>\n",
       "  <tbody>\n",
       "    <tr>\n",
       "      <th>0</th>\n",
       "      <td>01/01/2017</td>\n",
       "      <td>32</td>\n",
       "      <td>6</td>\n",
       "      <td>Rain</td>\n",
       "    </tr>\n",
       "    <tr>\n",
       "      <th>1</th>\n",
       "      <td>01/02/2017</td>\n",
       "      <td>35</td>\n",
       "      <td>7</td>\n",
       "      <td>Sunny</td>\n",
       "    </tr>\n",
       "    <tr>\n",
       "      <th>2</th>\n",
       "      <td>01/03/2017</td>\n",
       "      <td>28</td>\n",
       "      <td>2</td>\n",
       "      <td>Snow</td>\n",
       "    </tr>\n",
       "    <tr>\n",
       "      <th>3</th>\n",
       "      <td>01/04/2017</td>\n",
       "      <td>24</td>\n",
       "      <td>7</td>\n",
       "      <td>Snow</td>\n",
       "    </tr>\n",
       "    <tr>\n",
       "      <th>4</th>\n",
       "      <td>01/05/2017</td>\n",
       "      <td>32</td>\n",
       "      <td>4</td>\n",
       "      <td>Rain</td>\n",
       "    </tr>\n",
       "    <tr>\n",
       "      <th>5</th>\n",
       "      <td>01/06/2017</td>\n",
       "      <td>32</td>\n",
       "      <td>2</td>\n",
       "      <td>Sunny</td>\n",
       "    </tr>\n",
       "  </tbody>\n",
       "</table>\n",
       "</div>"
      ],
      "text/plain": [
       "            0   1  2       3\n",
       "0  01/01/2017  32  6    Rain\n",
       "1  01/02/2017  35  7  Sunny \n",
       "2  01/03/2017  28  2    Snow\n",
       "3  01/04/2017  24  7    Snow\n",
       "4  01/05/2017  32  4    Rain\n",
       "5  01/06/2017  32  2  Sunny "
      ]
     },
     "execution_count": 39,
     "metadata": {},
     "output_type": "execute_result"
    }
   ],
   "source": [
    "# Column Header is not given so that it makes default names starting zero, one, two....\n",
    "\n",
    "df2=pd.read_csv(\"C:\\\\Users\\\\Safal Basnet\\\\Desktop\\\\trial\\\\csv_no_column_name.csv\", header=None)\n",
    "df2"
   ]
  },
  {
   "cell_type": "code",
   "execution_count": 41,
   "id": "becf1945",
   "metadata": {},
   "outputs": [
    {
     "data": {
      "text/html": [
       "<div>\n",
       "<style scoped>\n",
       "    .dataframe tbody tr th:only-of-type {\n",
       "        vertical-align: middle;\n",
       "    }\n",
       "\n",
       "    .dataframe tbody tr th {\n",
       "        vertical-align: top;\n",
       "    }\n",
       "\n",
       "    .dataframe thead th {\n",
       "        text-align: right;\n",
       "    }\n",
       "</style>\n",
       "<table border=\"1\" class=\"dataframe\">\n",
       "  <thead>\n",
       "    <tr style=\"text-align: right;\">\n",
       "      <th></th>\n",
       "      <th>Day</th>\n",
       "      <th>temperatue</th>\n",
       "      <th>windspeed</th>\n",
       "      <th>event</th>\n",
       "    </tr>\n",
       "  </thead>\n",
       "  <tbody>\n",
       "    <tr>\n",
       "      <th>0</th>\n",
       "      <td>01/01/2017</td>\n",
       "      <td>32</td>\n",
       "      <td>6</td>\n",
       "      <td>Rain</td>\n",
       "    </tr>\n",
       "    <tr>\n",
       "      <th>1</th>\n",
       "      <td>01/02/2017</td>\n",
       "      <td>35</td>\n",
       "      <td>7</td>\n",
       "      <td>Sunny</td>\n",
       "    </tr>\n",
       "    <tr>\n",
       "      <th>2</th>\n",
       "      <td>01/03/2017</td>\n",
       "      <td>28</td>\n",
       "      <td>2</td>\n",
       "      <td>Snow</td>\n",
       "    </tr>\n",
       "    <tr>\n",
       "      <th>3</th>\n",
       "      <td>01/04/2017</td>\n",
       "      <td>24</td>\n",
       "      <td>7</td>\n",
       "      <td>Snow</td>\n",
       "    </tr>\n",
       "    <tr>\n",
       "      <th>4</th>\n",
       "      <td>01/05/2017</td>\n",
       "      <td>32</td>\n",
       "      <td>4</td>\n",
       "      <td>Rain</td>\n",
       "    </tr>\n",
       "    <tr>\n",
       "      <th>5</th>\n",
       "      <td>01/06/2017</td>\n",
       "      <td>32</td>\n",
       "      <td>2</td>\n",
       "      <td>Sunny</td>\n",
       "    </tr>\n",
       "  </tbody>\n",
       "</table>\n",
       "</div>"
      ],
      "text/plain": [
       "          Day  temperatue  windspeed   event\n",
       "0  01/01/2017          32          6    Rain\n",
       "1  01/02/2017          35          7  Sunny \n",
       "2  01/03/2017          28          2    Snow\n",
       "3  01/04/2017          24          7    Snow\n",
       "4  01/05/2017          32          4    Rain\n",
       "5  01/06/2017          32          2  Sunny "
      ]
     },
     "execution_count": 41,
     "metadata": {},
     "output_type": "execute_result"
    }
   ],
   "source": [
    "# We can make header names according to our interest as follows: \n",
    "df3=pd.read_csv(\"C:\\\\Users\\\\Safal Basnet\\\\Desktop\\\\trial\\\\csv_no_column_name.csv\", header=None, names=[\"Day\",\"temperatue\",\"windspeed\",\"event\"])\n",
    "df3"
   ]
  },
  {
   "cell_type": "code",
   "execution_count": 10,
   "id": "4f8c67f5",
   "metadata": {},
   "outputs": [
    {
     "data": {
      "text/html": [
       "<div>\n",
       "<style scoped>\n",
       "    .dataframe tbody tr th:only-of-type {\n",
       "        vertical-align: middle;\n",
       "    }\n",
       "\n",
       "    .dataframe tbody tr th {\n",
       "        vertical-align: top;\n",
       "    }\n",
       "\n",
       "    .dataframe thead th {\n",
       "        text-align: right;\n",
       "    }\n",
       "</style>\n",
       "<table border=\"1\" class=\"dataframe\">\n",
       "  <thead>\n",
       "    <tr style=\"text-align: right;\">\n",
       "      <th></th>\n",
       "      <th>Day</th>\n",
       "      <th>temperatue</th>\n",
       "      <th>windspeed</th>\n",
       "      <th>event</th>\n",
       "    </tr>\n",
       "  </thead>\n",
       "  <tbody>\n",
       "    <tr>\n",
       "      <th>0</th>\n",
       "      <td>01/01/2017</td>\n",
       "      <td>32</td>\n",
       "      <td>6</td>\n",
       "      <td>Rain</td>\n",
       "    </tr>\n",
       "    <tr>\n",
       "      <th>1</th>\n",
       "      <td>01/02/2017</td>\n",
       "      <td>35</td>\n",
       "      <td>7</td>\n",
       "      <td>Sunny</td>\n",
       "    </tr>\n",
       "    <tr>\n",
       "      <th>2</th>\n",
       "      <td>01/03/2017</td>\n",
       "      <td>28</td>\n",
       "      <td>2</td>\n",
       "      <td>Snow</td>\n",
       "    </tr>\n",
       "    <tr>\n",
       "      <th>3</th>\n",
       "      <td>01/04/2017</td>\n",
       "      <td>24</td>\n",
       "      <td>7</td>\n",
       "      <td>Snow</td>\n",
       "    </tr>\n",
       "    <tr>\n",
       "      <th>4</th>\n",
       "      <td>01/05/2017</td>\n",
       "      <td>32</td>\n",
       "      <td>4</td>\n",
       "      <td>Rain</td>\n",
       "    </tr>\n",
       "    <tr>\n",
       "      <th>5</th>\n",
       "      <td>01/06/2017</td>\n",
       "      <td>32</td>\n",
       "      <td>2</td>\n",
       "      <td>Sunny</td>\n",
       "    </tr>\n",
       "  </tbody>\n",
       "</table>\n",
       "</div>"
      ],
      "text/plain": [
       "          Day  temperatue  windspeed   event\n",
       "0  01/01/2017          32          6    Rain\n",
       "1  01/02/2017          35          7  Sunny \n",
       "2  01/03/2017          28          2    Snow\n",
       "3  01/04/2017          24          7    Snow\n",
       "4  01/05/2017          32          4    Rain\n",
       "5  01/06/2017          32          2  Sunny "
      ]
     },
     "execution_count": 10,
     "metadata": {},
     "output_type": "execute_result"
    }
   ],
   "source": [
    "# We can make header names according to our interest as follows: \n",
    "df3=pd.read_csv(\"C:\\\\Users\\\\Safal Basnet\\\\Desktop\\\\trial\\\\csv_no_column_name.csv\", header=None, names=[\"Day\",\"temperatue\",\"windspeed\",\"event\"])\n",
    "df3"
   ]
  },
  {
   "cell_type": "code",
   "execution_count": 11,
   "id": "cda9cc4e",
   "metadata": {},
   "outputs": [
    {
     "name": "stdout",
     "output_type": "stream",
     "text": [
      "0    1\n",
      "1    2\n",
      "2    3\n",
      "3    4\n",
      "dtype: int64\n",
      "\n",
      "0    5.0\n",
      "1    6.0\n",
      "2    7.0\n",
      "3    8.0\n",
      "4    9.0\n",
      "dtype: float64\n"
     ]
    }
   ],
   "source": [
    "# using shift + m after highlighting the merging cells,\n",
    "\"\"\"seperate cell seri and s2 both are combined here althogh they were separate.\n",
    "ctrl+shift minus(-) gives seperation of the code, make sure, cursor on the seperation position.\"\"\"\n",
    "import pandas as pd\n",
    "seri =pd.Series([1,2,3,4])\n",
    "\n",
    "s2= pd.Series([5,6,7,8,9],dtype=float)\n",
    "print (seri)\n",
    "print()\n",
    "print(s2)"
   ]
  },
  {
   "cell_type": "markdown",
   "id": "195d32ff",
   "metadata": {},
   "source": [
    "### ler= \"I am learning jupyter notebook\""
   ]
  },
  {
   "cell_type": "code",
   "execution_count": null,
   "id": "62262997",
   "metadata": {},
   "outputs": [],
   "source": []
  }
 ],
 "metadata": {
  "kernelspec": {
   "display_name": "Python 3 (ipykernel)",
   "language": "python",
   "name": "python3"
  },
  "language_info": {
   "codemirror_mode": {
    "name": "ipython",
    "version": 3
   },
   "file_extension": ".py",
   "mimetype": "text/x-python",
   "name": "python",
   "nbconvert_exporter": "python",
   "pygments_lexer": "ipython3",
   "version": "3.10.4"
  }
 },
 "nbformat": 4,
 "nbformat_minor": 5
}
